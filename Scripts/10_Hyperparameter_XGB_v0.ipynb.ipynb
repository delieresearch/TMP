{
 "cells": [
  {
   "cell_type": "code",
   "execution_count": 1,
   "id": "451a5cc4-b5d2-4912-93c9-dfa4a5ae20a4",
   "metadata": {
    "tags": []
   },
   "outputs": [],
   "source": [
    "import pandas as pd\n",
    "import numpy as np\n",
    "\n",
    "from sklearn.ensemble import RandomForestClassifier\n",
    "from sklearn.model_selection import train_test_split\n",
    "\n",
    "from sklearn.tree import DecisionTreeClassifier\n",
    "from sklearn.metrics import classification_report\n",
    "\n",
    "import random\n",
    "\n",
    "from sklearn.svm import LinearSVC\n",
    "from sklearn.feature_selection import SelectFromModel\n",
    "\n",
    "from numpy import mean, std\n",
    "from sklearn.model_selection import cross_val_score\n",
    "from sklearn.model_selection import RepeatedStratifiedKFold"
   ]
  },
  {
   "cell_type": "code",
   "execution_count": 2,
   "id": "d1c661b1-b42e-4bfa-9a74-a14bad641390",
   "metadata": {},
   "outputs": [],
   "source": [
    "pd.set_option('display.max_columns', None)"
   ]
  },
  {
   "cell_type": "markdown",
   "id": "74178947-a88f-409f-8d18-9b1a8f28810e",
   "metadata": {
    "tags": []
   },
   "source": [
    "# Loading"
   ]
  },
  {
   "cell_type": "code",
   "execution_count": 3,
   "id": "62330477-1aa0-4230-b850-577258c06cf3",
   "metadata": {},
   "outputs": [],
   "source": [
    "path_to_events = '../UXTweak/Ostre-2/Exporty z UXtweak/Prepared_Dataset/'\n",
    "df = pd.read_json(path_to_events + \"dataset_1_pageview_per_row.json\", orient ='records')"
   ]
  },
  {
   "cell_type": "code",
   "execution_count": 4,
   "id": "fae4db1b-bd12-41c8-8e29-fbfef630f41a",
   "metadata": {},
   "outputs": [
    {
     "data": {
      "text/html": [
       "<div>\n",
       "<style scoped>\n",
       "    .dataframe tbody tr th:only-of-type {\n",
       "        vertical-align: middle;\n",
       "    }\n",
       "\n",
       "    .dataframe tbody tr th {\n",
       "        vertical-align: top;\n",
       "    }\n",
       "\n",
       "    .dataframe thead th {\n",
       "        text-align: right;\n",
       "    }\n",
       "</style>\n",
       "<table border=\"1\" class=\"dataframe\">\n",
       "  <thead>\n",
       "    <tr style=\"text-align: right;\">\n",
       "      <th></th>\n",
       "      <th>Session</th>\n",
       "      <th>indicator_fg</th>\n",
       "      <th>Page</th>\n",
       "      <th>Likert_value</th>\n",
       "      <th>Big5</th>\n",
       "      <th>time</th>\n",
       "      <th>duration</th>\n",
       "      <th>distance</th>\n",
       "      <th>x_axis_distance</th>\n",
       "      <th>y_axis_distance</th>\n",
       "      <th>real_ideal_trajectory_diff</th>\n",
       "      <th>max_deviation</th>\n",
       "      <th>speed</th>\n",
       "      <th>x_axis_speed</th>\n",
       "      <th>y_axis_speed</th>\n",
       "      <th>acc</th>\n",
       "      <th>x_axis_acc</th>\n",
       "      <th>y_axis_acc</th>\n",
       "      <th>auc</th>\n",
       "      <th>clicks</th>\n",
       "      <th>x_flips</th>\n",
       "      <th>y_flips</th>\n",
       "      <th>visits</th>\n",
       "      <th>scrolling</th>\n",
       "      <th>init_time</th>\n",
       "      <th>react_time</th>\n",
       "    </tr>\n",
       "  </thead>\n",
       "  <tbody>\n",
       "    <tr>\n",
       "      <th>0</th>\n",
       "      <td>gsd4FIhsnwaOIMOtoSqX4geVy</td>\n",
       "      <td>1</td>\n",
       "      <td>3</td>\n",
       "      <td>4</td>\n",
       "      <td>1</td>\n",
       "      <td>14236</td>\n",
       "      <td>14893</td>\n",
       "      <td>4099.440429</td>\n",
       "      <td>3635.15625</td>\n",
       "      <td>1076.0</td>\n",
       "      <td>3434.874661</td>\n",
       "      <td>539.568132</td>\n",
       "      <td>0.287963</td>\n",
       "      <td>0.255350</td>\n",
       "      <td>0.075583</td>\n",
       "      <td>0.000020</td>\n",
       "      <td>0.000018</td>\n",
       "      <td>0.000005</td>\n",
       "      <td>50776.687500</td>\n",
       "      <td>2</td>\n",
       "      <td>8</td>\n",
       "      <td>8</td>\n",
       "      <td>1</td>\n",
       "      <td>False</td>\n",
       "      <td>261</td>\n",
       "      <td>7861</td>\n",
       "    </tr>\n",
       "    <tr>\n",
       "      <th>1</th>\n",
       "      <td>gsd4FIhsnwaOIMOtoSqX4geVy</td>\n",
       "      <td>1</td>\n",
       "      <td>4</td>\n",
       "      <td>5</td>\n",
       "      <td>1</td>\n",
       "      <td>2448</td>\n",
       "      <td>4529</td>\n",
       "      <td>1298.103346</td>\n",
       "      <td>1235.43750</td>\n",
       "      <td>354.0</td>\n",
       "      <td>456.372879</td>\n",
       "      <td>123.642760</td>\n",
       "      <td>0.530271</td>\n",
       "      <td>0.504672</td>\n",
       "      <td>0.144608</td>\n",
       "      <td>0.000217</td>\n",
       "      <td>0.000206</td>\n",
       "      <td>0.000059</td>\n",
       "      <td>161737.125000</td>\n",
       "      <td>2</td>\n",
       "      <td>2</td>\n",
       "      <td>1</td>\n",
       "      <td>1</td>\n",
       "      <td>False</td>\n",
       "      <td>470</td>\n",
       "      <td>2520</td>\n",
       "    </tr>\n",
       "    <tr>\n",
       "      <th>2</th>\n",
       "      <td>gsd4FIhsnwaOIMOtoSqX4geVy</td>\n",
       "      <td>1</td>\n",
       "      <td>5</td>\n",
       "      <td>5</td>\n",
       "      <td>1</td>\n",
       "      <td>4051</td>\n",
       "      <td>4355</td>\n",
       "      <td>976.613565</td>\n",
       "      <td>885.84375</td>\n",
       "      <td>329.0</td>\n",
       "      <td>241.107925</td>\n",
       "      <td>18.563896</td>\n",
       "      <td>0.241080</td>\n",
       "      <td>0.218673</td>\n",
       "      <td>0.081215</td>\n",
       "      <td>0.000060</td>\n",
       "      <td>0.000054</td>\n",
       "      <td>0.000020</td>\n",
       "      <td>74979.609375</td>\n",
       "      <td>2</td>\n",
       "      <td>2</td>\n",
       "      <td>4</td>\n",
       "      <td>1</td>\n",
       "      <td>False</td>\n",
       "      <td>281</td>\n",
       "      <td>3316</td>\n",
       "    </tr>\n",
       "    <tr>\n",
       "      <th>3</th>\n",
       "      <td>gsd4FIhsnwaOIMOtoSqX4geVy</td>\n",
       "      <td>1</td>\n",
       "      <td>6</td>\n",
       "      <td>3</td>\n",
       "      <td>1</td>\n",
       "      <td>1432</td>\n",
       "      <td>6039</td>\n",
       "      <td>478.125316</td>\n",
       "      <td>256.78125</td>\n",
       "      <td>300.0</td>\n",
       "      <td>65.496732</td>\n",
       "      <td>81.348974</td>\n",
       "      <td>0.333886</td>\n",
       "      <td>0.179317</td>\n",
       "      <td>0.209497</td>\n",
       "      <td>0.000233</td>\n",
       "      <td>0.000125</td>\n",
       "      <td>0.000146</td>\n",
       "      <td>18163.406250</td>\n",
       "      <td>2</td>\n",
       "      <td>2</td>\n",
       "      <td>3</td>\n",
       "      <td>1</td>\n",
       "      <td>False</td>\n",
       "      <td>2264</td>\n",
       "      <td>3262</td>\n",
       "    </tr>\n",
       "    <tr>\n",
       "      <th>4</th>\n",
       "      <td>gsd4FIhsnwaOIMOtoSqX4geVy</td>\n",
       "      <td>1</td>\n",
       "      <td>7</td>\n",
       "      <td>4</td>\n",
       "      <td>1</td>\n",
       "      <td>3648</td>\n",
       "      <td>4513</td>\n",
       "      <td>645.698909</td>\n",
       "      <td>551.71875</td>\n",
       "      <td>306.0</td>\n",
       "      <td>177.745514</td>\n",
       "      <td>71.096966</td>\n",
       "      <td>0.177001</td>\n",
       "      <td>0.151239</td>\n",
       "      <td>0.083882</td>\n",
       "      <td>0.000049</td>\n",
       "      <td>0.000041</td>\n",
       "      <td>0.000023</td>\n",
       "      <td>91599.750000</td>\n",
       "      <td>2</td>\n",
       "      <td>2</td>\n",
       "      <td>7</td>\n",
       "      <td>1</td>\n",
       "      <td>False</td>\n",
       "      <td>417</td>\n",
       "      <td>3670</td>\n",
       "    </tr>\n",
       "  </tbody>\n",
       "</table>\n",
       "</div>"
      ],
      "text/plain": [
       "                     Session  indicator_fg  Page Likert_value  Big5   time  \\\n",
       "0  gsd4FIhsnwaOIMOtoSqX4geVy             1     3            4     1  14236   \n",
       "1  gsd4FIhsnwaOIMOtoSqX4geVy             1     4            5     1   2448   \n",
       "2  gsd4FIhsnwaOIMOtoSqX4geVy             1     5            5     1   4051   \n",
       "3  gsd4FIhsnwaOIMOtoSqX4geVy             1     6            3     1   1432   \n",
       "4  gsd4FIhsnwaOIMOtoSqX4geVy             1     7            4     1   3648   \n",
       "\n",
       "   duration     distance  x_axis_distance  y_axis_distance  \\\n",
       "0     14893  4099.440429       3635.15625           1076.0   \n",
       "1      4529  1298.103346       1235.43750            354.0   \n",
       "2      4355   976.613565        885.84375            329.0   \n",
       "3      6039   478.125316        256.78125            300.0   \n",
       "4      4513   645.698909        551.71875            306.0   \n",
       "\n",
       "   real_ideal_trajectory_diff  max_deviation     speed  x_axis_speed  \\\n",
       "0                 3434.874661     539.568132  0.287963      0.255350   \n",
       "1                  456.372879     123.642760  0.530271      0.504672   \n",
       "2                  241.107925      18.563896  0.241080      0.218673   \n",
       "3                   65.496732      81.348974  0.333886      0.179317   \n",
       "4                  177.745514      71.096966  0.177001      0.151239   \n",
       "\n",
       "   y_axis_speed       acc  x_axis_acc  y_axis_acc            auc  clicks  \\\n",
       "0      0.075583  0.000020    0.000018    0.000005   50776.687500       2   \n",
       "1      0.144608  0.000217    0.000206    0.000059  161737.125000       2   \n",
       "2      0.081215  0.000060    0.000054    0.000020   74979.609375       2   \n",
       "3      0.209497  0.000233    0.000125    0.000146   18163.406250       2   \n",
       "4      0.083882  0.000049    0.000041    0.000023   91599.750000       2   \n",
       "\n",
       "   x_flips  y_flips  visits  scrolling  init_time  react_time  \n",
       "0        8        8       1      False        261        7861  \n",
       "1        2        1       1      False        470        2520  \n",
       "2        2        4       1      False        281        3316  \n",
       "3        2        3       1      False       2264        3262  \n",
       "4        2        7       1      False        417        3670  "
      ]
     },
     "execution_count": 4,
     "metadata": {},
     "output_type": "execute_result"
    }
   ],
   "source": [
    "df[:5]"
   ]
  },
  {
   "cell_type": "code",
   "execution_count": 5,
   "id": "6507f44e-4f93-4d48-bcca-fed250baab53",
   "metadata": {},
   "outputs": [
    {
     "data": {
      "text/plain": [
       "6944"
      ]
     },
     "execution_count": 5,
     "metadata": {},
     "output_type": "execute_result"
    }
   ],
   "source": [
    "len(df)"
   ]
  },
  {
   "cell_type": "code",
   "execution_count": 6,
   "id": "f3077101-cdf5-4617-a372-a8fd898f199a",
   "metadata": {},
   "outputs": [
    {
     "name": "stdout",
     "output_type": "stream",
     "text": [
      "<class 'pandas.core.frame.DataFrame'>\n",
      "RangeIndex: 6944 entries, 0 to 6943\n",
      "Data columns (total 26 columns):\n",
      " #   Column                      Non-Null Count  Dtype  \n",
      "---  ------                      --------------  -----  \n",
      " 0   Session                     6944 non-null   object \n",
      " 1   indicator_fg                6944 non-null   int64  \n",
      " 2   Page                        6944 non-null   int64  \n",
      " 3   Likert_value                6944 non-null   object \n",
      " 4   Big5                        6944 non-null   int64  \n",
      " 5   time                        6944 non-null   int64  \n",
      " 6   duration                    6944 non-null   int64  \n",
      " 7   distance                    6944 non-null   float64\n",
      " 8   x_axis_distance             6944 non-null   float64\n",
      " 9   y_axis_distance             6944 non-null   float64\n",
      " 10  real_ideal_trajectory_diff  6898 non-null   float64\n",
      " 11  max_deviation               6898 non-null   float64\n",
      " 12  speed                       6944 non-null   float64\n",
      " 13  x_axis_speed                6944 non-null   float64\n",
      " 14  y_axis_speed                6944 non-null   float64\n",
      " 15  acc                         6944 non-null   float64\n",
      " 16  x_axis_acc                  6944 non-null   float64\n",
      " 17  y_axis_acc                  6944 non-null   float64\n",
      " 18  auc                         6944 non-null   float64\n",
      " 19  clicks                      6944 non-null   int64  \n",
      " 20  x_flips                     6944 non-null   int64  \n",
      " 21  y_flips                     6944 non-null   int64  \n",
      " 22  visits                      6944 non-null   int64  \n",
      " 23  scrolling                   6944 non-null   bool   \n",
      " 24  init_time                   6944 non-null   int64  \n",
      " 25  react_time                  6944 non-null   int64  \n",
      "dtypes: bool(1), float64(12), int64(11), object(2)\n",
      "memory usage: 1.3+ MB\n"
     ]
    }
   ],
   "source": [
    "df.info()"
   ]
  },
  {
   "cell_type": "code",
   "execution_count": 7,
   "id": "3890c38a-55ec-4520-ad54-1e8f5515b5fe",
   "metadata": {},
   "outputs": [],
   "source": [
    "from sklearn.preprocessing import MinMaxScaler\n",
    "from sklearn.preprocessing import StandardScaler\n",
    "\n",
    "df = df[df['Big5'] == 1]\n",
    "\n",
    "columns_metrics = ['Likert_value', 'time', 'duration', 'distance',\n",
    "       'x_axis_distance', 'y_axis_distance', 'real_ideal_trajectory_diff',\n",
    "       'max_deviation', 'speed', 'x_axis_speed', 'y_axis_speed', 'acc',\n",
    "       'x_axis_acc', 'y_axis_acc', 'auc', 'clicks', 'x_flips', 'y_flips',\n",
    "       'visits', 'init_time', 'react_time']\n",
    "\n",
    "# scaler = MinMaxScaler()\n",
    "# scaler = StandardScaler()\n",
    "\n",
    "# df[columns_metrics] = scaler.fit_transform(df[columns_metrics])\n",
    "# df[:5]"
   ]
  },
  {
   "cell_type": "markdown",
   "id": "6f7a6ab9-d70a-4014-8f8a-3725452c173f",
   "metadata": {},
   "source": [
    "# Random state"
   ]
  },
  {
   "cell_type": "code",
   "execution_count": 8,
   "id": "35b3b939-063c-4e9a-8bc9-5c701e6da541",
   "metadata": {},
   "outputs": [
    {
     "name": "stdout",
     "output_type": "stream",
     "text": [
      "569229619\n"
     ]
    }
   ],
   "source": [
    "# Seed must be between 0 and 2**32 - 1\n",
    "\n",
    "# random_state = random.randint(0, 2**32 - 1)\n",
    "\n",
    "random_state = 569229619\n",
    "\n",
    "print(random_state)\n",
    "random.seed(random_state)"
   ]
  },
  {
   "cell_type": "markdown",
   "id": "f10f55fe-2a5f-4f2b-9248-8c963cafca81",
   "metadata": {
    "tags": []
   },
   "source": [
    "# Divide: Test & Train"
   ]
  },
  {
   "cell_type": "code",
   "execution_count": 9,
   "id": "c0f587bd-2e70-44e5-8050-6284ea65c80b",
   "metadata": {},
   "outputs": [],
   "source": [
    "df_to_train = df"
   ]
  },
  {
   "cell_type": "markdown",
   "id": "6c62bf5b-d250-4735-ad25-76a79aab1a15",
   "metadata": {},
   "source": [
    "## Select"
   ]
  },
  {
   "cell_type": "code",
   "execution_count": 10,
   "id": "ca8cc86f-cb8c-4d56-bca5-10b7868b9819",
   "metadata": {},
   "outputs": [],
   "source": [
    "def select_sessions(lst, n = 18):\n",
    "    i = 0\n",
    "    selected = []\n",
    "    while i < n:\n",
    "        element = random.choice(lst)\n",
    "        if element not in selected:\n",
    "            selected.append(element)\n",
    "            i += 1\n",
    "    return selected"
   ]
  },
  {
   "cell_type": "code",
   "execution_count": 11,
   "id": "a7d888ce-acde-49b7-aad8-4ba7355adbd0",
   "metadata": {},
   "outputs": [
    {
     "name": "stdout",
     "output_type": "stream",
     "text": [
      "['rBwaeMLAX9nPiQy9BieuiFiAO', 'WX6bamzNklg6PlFfKupotk2FW', '34OsjvpQRQYY2xLKiMczMVFRE', 'VajALjCapZgxxkAzTWNDVWXOB', '903G6972fkr5z0n04P3NfFjIS', '93npiDWQK6VipNjEWLfWafqsr', 'QJpzM76mOzzx41jlZ2cD68ZVr', 'oHWOYzMTNwQN7gGNuwwrc2q58', 'aGWX89ZStczYODlw7byX9cSce', 'ynePoKNeqa1CHW0m54pd86SY1', 'bFWJvlSjZLbgznUva0d86yGwS', 'KOq8m7kgSimUpV4gORbAX574C', 'TZcocph2t67jhKfcZSdo0BBaU', 'MU3B7xrha3Nr3DmLVeeCy7vGG', 'J84AyKOw3eXAhQAE9iZYAYCxB', 'kDtZ55pukriLSh8VOnV6D5h3N', 'niEXFrlkmqE1vexhOLRNtF7uY', 'GIszPEY36M0Y6Zaq2mJQYE2Ev']\n",
      "['lFkmX9UFPQu87VmX3QOtjZ3zK', 'UAytqC2udrP0JcwjdcjhhCNw8', 'KDWak467FmFZN321qc8Qumwhc', 'z5R93zFJCrmP8NAk3yypRkpiz', '8aOLee8TtAaJYBkJgJrQbqw6g', 'D5fYqE7ofhnJGZih8TLcEhdyD', 'n0OYGf6ieNDHT94qgjog5peBJ', 'B9f22juxHTJ70W0mINyPifnCJ', 'OK0LALqyDvRa2oBp6nnkjdks9', '99TUULTfZzD3H9F0bzzHus3c4', '05b1eCn35mhtHiwd3sQNGd0am', 'tseRJkAbZhFUXHnhjPWHBhHmF', 'L6IhgGIgpITGDZBBihX1d92Uv', 'pjbcxDZTIqBgwJId1zjBVZQbS', 'kWXMrfT5jl0TFxhgstlFq9PkE', 'uwMvzBSDsgBHsj50M3MLQmOaw', 'RBPuYafOHOIdMXLQ07pBerkXl', 'bHA4rnvBgjkkSZYmEUAuwUHO8']\n"
     ]
    }
   ],
   "source": [
    "# random test selection\n",
    "\n",
    "fg_list_sessions = list(set(list(df[df['indicator_fg'] == 1]['Session'])))\n",
    "fg_list_sessions.sort()\n",
    "h_list_sessions = list(set(list(df[df['indicator_fg'] == 0]['Session'])))\n",
    "h_list_sessions.sort()\n",
    "\n",
    "fg_selected = select_sessions(fg_list_sessions)\n",
    "h_selected = select_sessions(h_list_sessions)\n",
    "\n",
    "print(fg_selected)\n",
    "print(h_selected)\n",
    "all_selected = fg_selected + h_selected"
   ]
  },
  {
   "cell_type": "code",
   "execution_count": 12,
   "id": "6a2a0781-c010-43cd-800c-7db8c07312d2",
   "metadata": {},
   "outputs": [
    {
     "name": "stdout",
     "output_type": "stream",
     "text": [
      "1728 3648 5376 5376\n"
     ]
    }
   ],
   "source": [
    "df_to_test = df_to_train[df_to_train['Session'].isin(all_selected)]\n",
    "df_to_train = df_to_train[~df_to_train['Session'].isin(all_selected)]\n",
    "print(len(df_to_test), len(df_to_train), len(df), len(df_to_test)+len(df_to_train))"
   ]
  },
  {
   "cell_type": "code",
   "execution_count": 13,
   "id": "9abd0bfa-2112-4430-9c34-b33907fdf70e",
   "metadata": {},
   "outputs": [],
   "source": [
    "df_to_train = df_to_train[df_to_train['Big5'] == 1]\n",
    "df_to_train = df_to_train.drop([\"Session\", \"scrolling\", \"Big5\"], axis=1)\n",
    "df_to_train = df_to_train.dropna()\n",
    "\n",
    "df_to_test = df_to_test[df_to_test['Big5'] == 1]\n",
    "df_to_test = df_to_test.dropna()\n",
    "\n",
    "result_test = df_to_test.to_json(orient=\"records\")\n",
    "with open(path_to_events + 'Constant_dataset_for_Phase3_validation/df_to_test.json', 'w') as outfile:\n",
    "    outfile.write(result_test)\n",
    "    \n",
    "result_train = df_to_train.to_json(orient=\"records\")\n",
    "with open(path_to_events + 'Constant_dataset_for_Phase3_validation/df_to_train.json', 'w') as outfile:\n",
    "    outfile.write(result_train) "
   ]
  },
  {
   "cell_type": "markdown",
   "id": "d30a68cc-a1d0-4bce-b525-5c2a0dbf3a67",
   "metadata": {
    "tags": []
   },
   "source": [
    "## Feature selection"
   ]
  },
  {
   "cell_type": "markdown",
   "id": "556b4fc2-91e6-4ebf-9039-b6890d2c0327",
   "metadata": {},
   "source": [
    "The following code is insipred by official documentation."
   ]
  },
  {
   "cell_type": "code",
   "execution_count": 14,
   "id": "c78e471b-3bf9-40f9-9933-fe7506c0bdc0",
   "metadata": {},
   "outputs": [
    {
     "name": "stderr",
     "output_type": "stream",
     "text": [
      "C:\\Users\\PeterSmrecek\\Documents\\BP\\BP-venv\\lib\\site-packages\\sklearn\\svm\\_base.py:1206: ConvergenceWarning: Liblinear failed to converge, increase the number of iterations.\n",
      "  warnings.warn(\n",
      "C:\\Users\\PeterSmrecek\\Documents\\BP\\BP-venv\\lib\\site-packages\\sklearn\\base.py:443: UserWarning: X has feature names, but SelectFromModel was fitted without feature names\n",
      "  warnings.warn(\n"
     ]
    },
    {
     "data": {
      "text/plain": [
       "(3630, 12)"
      ]
     },
     "execution_count": 14,
     "metadata": {},
     "output_type": "execute_result"
    }
   ],
   "source": [
    "X_train_lasso = df_to_train.drop(['indicator_fg', 'Page'], axis=1)\n",
    "y_train_lasso = df_to_train['indicator_fg']\n",
    "\n",
    "lsvc = LinearSVC(C=0.03, penalty=\"l1\", dual=False).fit(X_train_lasso, y_train_lasso)\n",
    "model = SelectFromModel(lsvc, prefit=True)\n",
    "X_new = model.transform(X_train_lasso)\n",
    "X_new.shape"
   ]
  },
  {
   "cell_type": "code",
   "execution_count": 15,
   "id": "cf50d616-b0f9-44e4-ad6b-19a5146b0e28",
   "metadata": {},
   "outputs": [
    {
     "data": {
      "text/plain": [
       "['Likert_value',\n",
       " 'time',\n",
       " 'duration',\n",
       " 'distance',\n",
       " 'x_axis_distance',\n",
       " 'y_axis_distance',\n",
       " 'real_ideal_trajectory_diff',\n",
       " 'max_deviation',\n",
       " 'y_flips',\n",
       " 'visits',\n",
       " 'init_time',\n",
       " 'react_time']"
      ]
     },
     "execution_count": 15,
     "metadata": {},
     "output_type": "execute_result"
    }
   ],
   "source": [
    "selected_features = X_train_lasso.columns[(model.get_support())]\n",
    "selected_features = list(selected_features)\n",
    "selected_features"
   ]
  },
  {
   "cell_type": "code",
   "execution_count": 16,
   "id": "5cd8840d-5947-4df0-8f6e-7e2de7952b19",
   "metadata": {},
   "outputs": [],
   "source": [
    "selected_features = ['Likert_value', 'max_deviation', 'speed', 'x_axis_speed', 'x_axis_acc', 'auc', 'y_flips', 'visits', 'init_time']"
   ]
  },
  {
   "cell_type": "markdown",
   "id": "c19056c5-fea3-4714-a256-c87213bb67c7",
   "metadata": {},
   "source": [
    "## Only t test passed features"
   ]
  },
  {
   "cell_type": "code",
   "execution_count": 17,
   "id": "6bd875df-20db-4672-93cf-106514dd2795",
   "metadata": {},
   "outputs": [],
   "source": [
    "# t test\n",
    "# selected_features = ['Likert_value', 'real_ideal_trajectory_diff', 'max_deviation', 'speed', 'x_axis_speed', 'x_axis_acc', 'auc', 'y_flips', 'visits', 'init_time']\n",
    "df_to_test2 = df_to_test.drop([\"Session\", \"scrolling\", \"Big5\"], axis=1)\n",
    "df_to_test2 = df_to_test[selected_features + [\"indicator_fg\"]]\n",
    "df_to_train = df_to_train[selected_features + [\"indicator_fg\"]]"
   ]
  },
  {
   "cell_type": "markdown",
   "id": "9d8beffa-a58e-40e8-a191-b96d3a2562db",
   "metadata": {},
   "source": [
    "## Divide"
   ]
  },
  {
   "cell_type": "code",
   "execution_count": 18,
   "id": "3811c502-deee-431e-ad17-17429d6ae152",
   "metadata": {},
   "outputs": [],
   "source": [
    "# df_to_train = df_to_train[selected_features + [\"indicator_fg\"]]\n",
    "# X_train, X_test, y_train, y_test = train_test_split(df_to_train.drop([\"indicator_fg\"], axis=1), \n",
    "#                                                     df_to_train['indicator_fg'], test_size=0.10,\n",
    "#                                                    random_state=random_state)"
   ]
  },
  {
   "cell_type": "code",
   "execution_count": 19,
   "id": "3e0a914c-c452-41da-993d-b5e7d25ff397",
   "metadata": {},
   "outputs": [],
   "source": [
    "X_train = df_to_train.drop([\"indicator_fg\"], axis=1)\n",
    "X_test = df_to_test2.drop([\"indicator_fg\"], axis=1)\n",
    "y_train = df_to_train['indicator_fg']\n",
    "y_test = df_to_test2['indicator_fg']"
   ]
  },
  {
   "cell_type": "code",
   "execution_count": 20,
   "id": "79b2a236-79c8-46e9-b254-1cd0185e6577",
   "metadata": {},
   "outputs": [],
   "source": [
    "result_X_train = X_train.to_json(orient=\"records\")\n",
    "with open(path_to_events + 'Constant_dataset_for_Phase3_validation/X_train.json', 'w') as outfile:\n",
    "    outfile.write(result_X_train)\n",
    "    \n",
    "result_X_test = X_test.to_json(orient=\"records\")\n",
    "with open(path_to_events + 'Constant_dataset_for_Phase3_validation/X_test.json', 'w') as outfile:\n",
    "    outfile.write(result_X_test)\n",
    "    \n",
    "result_y_train = y_train.to_json(orient=\"records\")\n",
    "with open(path_to_events + 'Constant_dataset_for_Phase3_validation/y_train.json', 'w') as outfile:\n",
    "    outfile.write(result_y_train)\n",
    "\n",
    "result_y_test = y_test.to_json(orient=\"records\")\n",
    "with open(path_to_events + 'Constant_dataset_for_Phase3_validation/y_test.json', 'w') as outfile:\n",
    "    outfile.write(result_y_test)"
   ]
  },
  {
   "cell_type": "markdown",
   "id": "c1330ea3-29c0-4a9d-8797-9b1a96df002c",
   "metadata": {
    "tags": []
   },
   "source": [
    "# Machine Learning for metrics over **1 row = 1 pageview** dataframe"
   ]
  },
  {
   "cell_type": "markdown",
   "id": "ed94f5d4-3dc1-4789-a7a1-9aae5317b955",
   "metadata": {},
   "source": [
    "The following function is taken from my project developed on the subject Intelligent Data Analysis 2021/2022."
   ]
  },
  {
   "cell_type": "code",
   "execution_count": 21,
   "id": "177f9e14-16f8-4f97-a479-4e2d82614e44",
   "metadata": {},
   "outputs": [],
   "source": [
    "def report_generator(pred_train, pred_test, y_train, y_test, driver_silent, zero_division='warn'):\n",
    "    if not driver_silent:\n",
    "        print(\"Predicting for train dataset:\")\n",
    "        print(classification_report(y_train, pred_train, zero_division=zero_division))\n",
    "\n",
    "        print(\"Predicting for test dataset:\")\n",
    "        print(classification_report(y_test, pred_test, zero_division=zero_division))\n",
    "    \n",
    "    report_train = classification_report(y_train, pred_train, output_dict=True, zero_division=zero_division)\n",
    "    report_test = classification_report(y_test, pred_test, output_dict=True, zero_division=zero_division)\n",
    "    \n",
    "    return report_train, report_test"
   ]
  },
  {
   "cell_type": "markdown",
   "id": "10c26dbc-bb7a-4f1e-8ab4-5668548f790a",
   "metadata": {
    "tags": []
   },
   "source": [
    "## Gradient Boosting"
   ]
  },
  {
   "cell_type": "code",
   "execution_count": 22,
   "id": "a9f37360-7d0f-4141-b50f-18ae498a2ef1",
   "metadata": {},
   "outputs": [
    {
     "data": {
      "text/html": [
       "<div>\n",
       "<style scoped>\n",
       "    .dataframe tbody tr th:only-of-type {\n",
       "        vertical-align: middle;\n",
       "    }\n",
       "\n",
       "    .dataframe tbody tr th {\n",
       "        vertical-align: top;\n",
       "    }\n",
       "\n",
       "    .dataframe thead th {\n",
       "        text-align: right;\n",
       "    }\n",
       "</style>\n",
       "<table border=\"1\" class=\"dataframe\">\n",
       "  <thead>\n",
       "    <tr style=\"text-align: right;\">\n",
       "      <th></th>\n",
       "      <th>Likert_value</th>\n",
       "      <th>max_deviation</th>\n",
       "      <th>speed</th>\n",
       "      <th>x_axis_speed</th>\n",
       "      <th>x_axis_acc</th>\n",
       "      <th>auc</th>\n",
       "      <th>y_flips</th>\n",
       "      <th>visits</th>\n",
       "      <th>init_time</th>\n",
       "    </tr>\n",
       "  </thead>\n",
       "  <tbody>\n",
       "    <tr>\n",
       "      <th>0</th>\n",
       "      <td>4</td>\n",
       "      <td>539.568132</td>\n",
       "      <td>0.287963</td>\n",
       "      <td>0.255350</td>\n",
       "      <td>0.000018</td>\n",
       "      <td>50776.687500</td>\n",
       "      <td>8</td>\n",
       "      <td>1</td>\n",
       "      <td>261</td>\n",
       "    </tr>\n",
       "    <tr>\n",
       "      <th>1</th>\n",
       "      <td>5</td>\n",
       "      <td>123.642760</td>\n",
       "      <td>0.530271</td>\n",
       "      <td>0.504672</td>\n",
       "      <td>0.000206</td>\n",
       "      <td>161737.125000</td>\n",
       "      <td>1</td>\n",
       "      <td>1</td>\n",
       "      <td>470</td>\n",
       "    </tr>\n",
       "    <tr>\n",
       "      <th>2</th>\n",
       "      <td>5</td>\n",
       "      <td>18.563896</td>\n",
       "      <td>0.241080</td>\n",
       "      <td>0.218673</td>\n",
       "      <td>0.000054</td>\n",
       "      <td>74979.609375</td>\n",
       "      <td>4</td>\n",
       "      <td>1</td>\n",
       "      <td>281</td>\n",
       "    </tr>\n",
       "    <tr>\n",
       "      <th>3</th>\n",
       "      <td>3</td>\n",
       "      <td>81.348974</td>\n",
       "      <td>0.333886</td>\n",
       "      <td>0.179317</td>\n",
       "      <td>0.000125</td>\n",
       "      <td>18163.406250</td>\n",
       "      <td>3</td>\n",
       "      <td>1</td>\n",
       "      <td>2264</td>\n",
       "    </tr>\n",
       "    <tr>\n",
       "      <th>4</th>\n",
       "      <td>4</td>\n",
       "      <td>71.096966</td>\n",
       "      <td>0.177001</td>\n",
       "      <td>0.151239</td>\n",
       "      <td>0.000041</td>\n",
       "      <td>91599.750000</td>\n",
       "      <td>7</td>\n",
       "      <td>1</td>\n",
       "      <td>417</td>\n",
       "    </tr>\n",
       "    <tr>\n",
       "      <th>...</th>\n",
       "      <td>...</td>\n",
       "      <td>...</td>\n",
       "      <td>...</td>\n",
       "      <td>...</td>\n",
       "      <td>...</td>\n",
       "      <td>...</td>\n",
       "      <td>...</td>\n",
       "      <td>...</td>\n",
       "      <td>...</td>\n",
       "    </tr>\n",
       "    <tr>\n",
       "      <th>6925</th>\n",
       "      <td>4</td>\n",
       "      <td>224.092544</td>\n",
       "      <td>0.227982</td>\n",
       "      <td>0.201875</td>\n",
       "      <td>0.000038</td>\n",
       "      <td>82819.848633</td>\n",
       "      <td>1</td>\n",
       "      <td>1</td>\n",
       "      <td>2174</td>\n",
       "    </tr>\n",
       "    <tr>\n",
       "      <th>6926</th>\n",
       "      <td>4</td>\n",
       "      <td>84.937991</td>\n",
       "      <td>0.220351</td>\n",
       "      <td>0.194159</td>\n",
       "      <td>0.000044</td>\n",
       "      <td>126346.655273</td>\n",
       "      <td>3</td>\n",
       "      <td>1</td>\n",
       "      <td>539</td>\n",
       "    </tr>\n",
       "    <tr>\n",
       "      <th>6927</th>\n",
       "      <td>4</td>\n",
       "      <td>107.518036</td>\n",
       "      <td>0.280394</td>\n",
       "      <td>0.225623</td>\n",
       "      <td>0.000065</td>\n",
       "      <td>127453.637695</td>\n",
       "      <td>6</td>\n",
       "      <td>1</td>\n",
       "      <td>336</td>\n",
       "    </tr>\n",
       "    <tr>\n",
       "      <th>6928</th>\n",
       "      <td>4</td>\n",
       "      <td>282.290524</td>\n",
       "      <td>0.160082</td>\n",
       "      <td>0.128325</td>\n",
       "      <td>0.000013</td>\n",
       "      <td>60848.583984</td>\n",
       "      <td>10</td>\n",
       "      <td>1</td>\n",
       "      <td>2201</td>\n",
       "    </tr>\n",
       "    <tr>\n",
       "      <th>6929</th>\n",
       "      <td>5</td>\n",
       "      <td>91.554735</td>\n",
       "      <td>0.242542</td>\n",
       "      <td>0.209781</td>\n",
       "      <td>0.000046</td>\n",
       "      <td>217507.543945</td>\n",
       "      <td>2</td>\n",
       "      <td>2</td>\n",
       "      <td>430</td>\n",
       "    </tr>\n",
       "  </tbody>\n",
       "</table>\n",
       "<p>3630 rows × 9 columns</p>\n",
       "</div>"
      ],
      "text/plain": [
       "     Likert_value  max_deviation     speed  x_axis_speed  x_axis_acc  \\\n",
       "0               4     539.568132  0.287963      0.255350    0.000018   \n",
       "1               5     123.642760  0.530271      0.504672    0.000206   \n",
       "2               5      18.563896  0.241080      0.218673    0.000054   \n",
       "3               3      81.348974  0.333886      0.179317    0.000125   \n",
       "4               4      71.096966  0.177001      0.151239    0.000041   \n",
       "...           ...            ...       ...           ...         ...   \n",
       "6925            4     224.092544  0.227982      0.201875    0.000038   \n",
       "6926            4      84.937991  0.220351      0.194159    0.000044   \n",
       "6927            4     107.518036  0.280394      0.225623    0.000065   \n",
       "6928            4     282.290524  0.160082      0.128325    0.000013   \n",
       "6929            5      91.554735  0.242542      0.209781    0.000046   \n",
       "\n",
       "                auc  y_flips  visits  init_time  \n",
       "0      50776.687500        8       1        261  \n",
       "1     161737.125000        1       1        470  \n",
       "2      74979.609375        4       1        281  \n",
       "3      18163.406250        3       1       2264  \n",
       "4      91599.750000        7       1        417  \n",
       "...             ...      ...     ...        ...  \n",
       "6925   82819.848633        1       1       2174  \n",
       "6926  126346.655273        3       1        539  \n",
       "6927  127453.637695        6       1        336  \n",
       "6928   60848.583984       10       1       2201  \n",
       "6929  217507.543945        2       2        430  \n",
       "\n",
       "[3630 rows x 9 columns]"
      ]
     },
     "execution_count": 22,
     "metadata": {},
     "output_type": "execute_result"
    }
   ],
   "source": [
    "X_train"
   ]
  },
  {
   "cell_type": "code",
   "execution_count": 23,
   "id": "8367a85c-3a1a-47a5-9847-185c4443ec30",
   "metadata": {},
   "outputs": [],
   "source": [
    "from sklearn.ensemble import GradientBoostingClassifier\n",
    "\n",
    "import xgboost as xgb\n",
    "\n",
    "def xgboostDriver(X_train, X_test, y_train, y_test, driver_silent=True):\n",
    "    # binary:logistic 75, binary:logitraw 69, binary:hinge 78, rank:pairwise 78, reg:logistic 75\n",
    "    clf = xgb.XGBClassifier(n_estimators=1000, objective='binary:hinge', random_state=random_state)\n",
    "    clf.fit(X_train, y_train)\n",
    "    \n",
    "    pred_train = clf.predict(X_train)\n",
    "    pred_test = clf.predict(X_test)\n",
    "    \n",
    "    return clf, *report_generator(pred_train, pred_test, y_train, y_test, driver_silent)"
   ]
  },
  {
   "cell_type": "code",
   "execution_count": 24,
   "id": "1737d268-6351-4795-bdf3-55f2c87ce39f",
   "metadata": {},
   "outputs": [],
   "source": [
    "X_train['Likert_value'] = X_train['Likert_value'].astype('int')\n",
    "X_test['Likert_value'] = X_test['Likert_value'].astype('int')"
   ]
  },
  {
   "cell_type": "code",
   "execution_count": 25,
   "id": "9f957c66-08c7-4de3-b32e-ec80d537912f",
   "metadata": {},
   "outputs": [
    {
     "name": "stdout",
     "output_type": "stream",
     "text": [
      "Predicting for train dataset:\n",
      "              precision    recall  f1-score   support\n",
      "\n",
      "           0       0.96      0.95      0.95      1864\n",
      "           1       0.95      0.96      0.95      1766\n",
      "\n",
      "    accuracy                           0.95      3630\n",
      "   macro avg       0.95      0.95      0.95      3630\n",
      "weighted avg       0.95      0.95      0.95      3630\n",
      "\n",
      "Predicting for test dataset:\n",
      "              precision    recall  f1-score   support\n",
      "\n",
      "           0       0.57      0.58      0.58       858\n",
      "           1       0.58      0.57      0.57       856\n",
      "\n",
      "    accuracy                           0.58      1714\n",
      "   macro avg       0.58      0.58      0.58      1714\n",
      "weighted avg       0.58      0.58      0.58      1714\n",
      "\n"
     ]
    }
   ],
   "source": [
    "clf4, train_report4, test_report4 = xgboostDriver(X_train, X_test, y_train, y_test, driver_silent=False)"
   ]
  },
  {
   "cell_type": "code",
   "execution_count": 26,
   "id": "475b28f3-99a7-4dd8-8337-99f70ee7bfd2",
   "metadata": {},
   "outputs": [],
   "source": [
    "params = {\n",
    "    'n_estimators': [700, 1000],\n",
    "    'max_depth': [3, 6, 9, 12],\n",
    "    'learning_rate': [0.01, 0.1, 0.2],\n",
    "    'min_child_weight': [0.8, 1.0, 1.2],\n",
    "    'subsample': [0.5, 0.7, 1.0],\n",
    "    'colsample_bytree': [0.5, 0.7, 1.0]\n",
    "}"
   ]
  },
  {
   "cell_type": "code",
   "execution_count": 27,
   "id": "5fbb2e40-5aa6-4141-a50b-506bcfe1d89b",
   "metadata": {},
   "outputs": [],
   "source": [
    "cls = xgb.XGBClassifier(random_state=random_state, objective='binary:hinge')"
   ]
  },
  {
   "cell_type": "code",
   "execution_count": 28,
   "id": "5ed8eace-b0a3-4b1f-95c2-1b535cc30d0a",
   "metadata": {},
   "outputs": [],
   "source": [
    "X = df_to_train.drop([\"indicator_fg\"], axis=1)\n",
    "y = df_to_train[\"indicator_fg\"]"
   ]
  },
  {
   "cell_type": "code",
   "execution_count": 29,
   "id": "20eb8b55-1674-407f-9a2e-1d85acf73323",
   "metadata": {},
   "outputs": [],
   "source": [
    "X['Likert_value'] = X['Likert_value'].astype('int')"
   ]
  },
  {
   "cell_type": "code",
   "execution_count": 30,
   "id": "282c62fc-8528-4ea1-974d-4189f09945f9",
   "metadata": {},
   "outputs": [],
   "source": [
    "from sklearn.model_selection import GridSearchCV, RandomizedSearchCV\n",
    "gridCV = GridSearchCV(cls, params, cv=7, verbose=4, n_jobs=-1)"
   ]
  },
  {
   "cell_type": "code",
   "execution_count": 31,
   "id": "8101cfe6-5777-41e0-9abc-572dc2c30367",
   "metadata": {},
   "outputs": [
    {
     "name": "stdout",
     "output_type": "stream",
     "text": [
      "Fitting 7 folds for each of 648 candidates, totalling 4536 fits\n"
     ]
    },
    {
     "data": {
      "text/plain": [
       "GridSearchCV(cv=7,\n",
       "             estimator=XGBClassifier(base_score=None, booster=None,\n",
       "                                     callbacks=None, colsample_bylevel=None,\n",
       "                                     colsample_bynode=None,\n",
       "                                     colsample_bytree=None,\n",
       "                                     early_stopping_rounds=None,\n",
       "                                     enable_categorical=False, eval_metric=None,\n",
       "                                     feature_types=None, gamma=None,\n",
       "                                     gpu_id=None, grow_policy=None,\n",
       "                                     importance_type=None,\n",
       "                                     interaction_constraints=None,\n",
       "                                     learning_rate=None,...\n",
       "                                     max_leaves=None, min_child_weight=None,\n",
       "                                     missing=nan, monotone_constraints=None,\n",
       "                                     n_estimators=100, n_jobs=None,\n",
       "                                     num_parallel_tree=None,\n",
       "                                     objective='binary:hinge', predictor=None, ...),\n",
       "             n_jobs=-1,\n",
       "             param_grid={'colsample_bytree': [0.5, 0.7, 1.0],\n",
       "                         'learning_rate': [0.01, 0.1, 0.2],\n",
       "                         'max_depth': [3, 6, 9, 12],\n",
       "                         'min_child_weight': [0.8, 1.0, 1.2],\n",
       "                         'n_estimators': [700, 1000],\n",
       "                         'subsample': [0.5, 0.7, 1.0]},\n",
       "             verbose=4)"
      ]
     },
     "execution_count": 31,
     "metadata": {},
     "output_type": "execute_result"
    }
   ],
   "source": [
    "gridCV.fit(X, y)"
   ]
  },
  {
   "cell_type": "code",
   "execution_count": 32,
   "id": "9f2db764-d55d-4c8b-b32b-ae16bc7b65e7",
   "metadata": {},
   "outputs": [
    {
     "data": {
      "text/plain": [
       "0.6057976697943667"
      ]
     },
     "execution_count": 32,
     "metadata": {},
     "output_type": "execute_result"
    }
   ],
   "source": [
    "gridCV.best_score_"
   ]
  },
  {
   "cell_type": "code",
   "execution_count": 33,
   "id": "8fc980b1-4e73-4be3-b29f-098bde499bc6",
   "metadata": {},
   "outputs": [
    {
     "data": {
      "text/plain": [
       "XGBClassifier(base_score=None, booster=None, callbacks=None,\n",
       "              colsample_bylevel=None, colsample_bynode=None,\n",
       "              colsample_bytree=0.7, early_stopping_rounds=None,\n",
       "              enable_categorical=False, eval_metric=None, feature_types=None,\n",
       "              gamma=None, gpu_id=None, grow_policy=None, importance_type=None,\n",
       "              interaction_constraints=None, learning_rate=0.01, max_bin=None,\n",
       "              max_cat_threshold=None, max_cat_to_onehot=None,\n",
       "              max_delta_step=None, max_depth=3, max_leaves=None,\n",
       "              min_child_weight=0.8, missing=nan, monotone_constraints=None,\n",
       "              n_estimators=1000, n_jobs=None, num_parallel_tree=None,\n",
       "              objective='binary:hinge', predictor=None, ...)"
      ]
     },
     "execution_count": 33,
     "metadata": {},
     "output_type": "execute_result"
    }
   ],
   "source": [
    "bestGrid = gridCV.best_estimator_\n",
    "bestGrid"
   ]
  },
  {
   "cell_type": "code",
   "execution_count": 34,
   "id": "c49d64cc-3bac-47d2-b64a-82059cd37a2d",
   "metadata": {},
   "outputs": [
    {
     "data": {
      "text/plain": [
       "{'objective': 'binary:hinge',\n",
       " 'use_label_encoder': None,\n",
       " 'base_score': None,\n",
       " 'booster': None,\n",
       " 'callbacks': None,\n",
       " 'colsample_bylevel': None,\n",
       " 'colsample_bynode': None,\n",
       " 'colsample_bytree': 0.7,\n",
       " 'early_stopping_rounds': None,\n",
       " 'enable_categorical': False,\n",
       " 'eval_metric': None,\n",
       " 'feature_types': None,\n",
       " 'gamma': None,\n",
       " 'gpu_id': None,\n",
       " 'grow_policy': None,\n",
       " 'importance_type': None,\n",
       " 'interaction_constraints': None,\n",
       " 'learning_rate': 0.01,\n",
       " 'max_bin': None,\n",
       " 'max_cat_threshold': None,\n",
       " 'max_cat_to_onehot': None,\n",
       " 'max_delta_step': None,\n",
       " 'max_depth': 3,\n",
       " 'max_leaves': None,\n",
       " 'min_child_weight': 0.8,\n",
       " 'missing': nan,\n",
       " 'monotone_constraints': None,\n",
       " 'n_estimators': 1000,\n",
       " 'n_jobs': None,\n",
       " 'num_parallel_tree': None,\n",
       " 'predictor': None,\n",
       " 'random_state': 569229619,\n",
       " 'reg_alpha': None,\n",
       " 'reg_lambda': None,\n",
       " 'sampling_method': None,\n",
       " 'scale_pos_weight': None,\n",
       " 'subsample': 0.5,\n",
       " 'tree_method': None,\n",
       " 'validate_parameters': None,\n",
       " 'verbosity': None}"
      ]
     },
     "execution_count": 34,
     "metadata": {},
     "output_type": "execute_result"
    }
   ],
   "source": [
    "bestGrid.get_params()"
   ]
  },
  {
   "cell_type": "code",
   "execution_count": 35,
   "id": "8543ac0a-a642-46a2-84c1-bd1564538ad1",
   "metadata": {},
   "outputs": [],
   "source": [
    "gridPred_train = bestGrid.predict(X_train)\n",
    "gridPred_test = bestGrid.predict(X_test)"
   ]
  },
  {
   "cell_type": "code",
   "execution_count": 36,
   "id": "71755d2d-c0bf-4c51-94bc-0f79947c2ced",
   "metadata": {},
   "outputs": [
    {
     "name": "stdout",
     "output_type": "stream",
     "text": [
      "              precision    recall  f1-score   support\n",
      "\n",
      "           0       0.71      0.56      0.62      1864\n",
      "           1       0.62      0.76      0.68      1766\n",
      "\n",
      "    accuracy                           0.66      3630\n",
      "   macro avg       0.67      0.66      0.65      3630\n",
      "weighted avg       0.67      0.66      0.65      3630\n",
      "\n"
     ]
    }
   ],
   "source": [
    "print(classification_report(y_train, gridPred_train)) "
   ]
  },
  {
   "cell_type": "code",
   "execution_count": 37,
   "id": "958f62c1-d8ff-441a-93da-66e452c813c4",
   "metadata": {},
   "outputs": [
    {
     "name": "stdout",
     "output_type": "stream",
     "text": [
      "              precision    recall  f1-score   support\n",
      "\n",
      "           0       0.69      0.56      0.62       858\n",
      "           1       0.63      0.75      0.68       856\n",
      "\n",
      "    accuracy                           0.65      1714\n",
      "   macro avg       0.66      0.65      0.65      1714\n",
      "weighted avg       0.66      0.65      0.65      1714\n",
      "\n"
     ]
    }
   ],
   "source": [
    "print(classification_report(y_test, gridPred_test)) "
   ]
  },
  {
   "cell_type": "code",
   "execution_count": null,
   "id": "533ea18d-2fa7-4118-9789-9a6cee3c3049",
   "metadata": {},
   "outputs": [],
   "source": []
  }
 ],
 "metadata": {
  "kernelspec": {
   "display_name": "BP-venv",
   "language": "python",
   "name": "bp-venv"
  },
  "language_info": {
   "codemirror_mode": {
    "name": "ipython",
    "version": 3
   },
   "file_extension": ".py",
   "mimetype": "text/x-python",
   "name": "python",
   "nbconvert_exporter": "python",
   "pygments_lexer": "ipython3",
   "version": "3.9.7"
  }
 },
 "nbformat": 4,
 "nbformat_minor": 5
}
